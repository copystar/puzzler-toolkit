{
 "cells": [
  {
   "cell_type": "code",
   "execution_count": 1,
   "metadata": {
    "collapsed": true
   },
   "outputs": [],
   "source": [
    "from collections import Counter;"
   ]
  },
  {
   "cell_type": "code",
   "execution_count": 2,
   "metadata": {
    "collapsed": true
   },
   "outputs": [],
   "source": [
    "sentence = \"x axtf x znlpe abxou qt kvtoubxnlt qt q zqo\";"
   ]
  },
  {
   "cell_type": "code",
   "execution_count": 3,
   "metadata": {
    "collapsed": false
   },
   "outputs": [
    {
     "name": "stdout",
     "output_type": "stream",
     "text": [
      "x axtf x znlpe abxou qt kvtoubxnlt qt q zqo\n"
     ]
    }
   ],
   "source": [
    "print (sentence);"
   ]
  },
  {
   "cell_type": "code",
   "execution_count": 4,
   "metadata": {
    "collapsed": false
   },
   "outputs": [
    {
     "name": "stdout",
     "output_type": "stream",
     "text": [
      "Counter({' ': 9, 'x': 5, 't': 5, 'q': 4, 'o': 3, 'u': 2, 'l': 2, 'a': 2, 'n': 2, 'b': 2, 'z': 2, 'f': 1, 'v': 1, 'k': 1, 'e': 1, 'p': 1})\n"
     ]
    }
   ],
   "source": [
    "print (Counter(sentence));"
   ]
  },
  {
   "cell_type": "code",
   "execution_count": 5,
   "metadata": {
    "collapsed": true
   },
   "outputs": [],
   "source": [
    "# ETAOIN"
   ]
  },
  {
   "cell_type": "code",
   "execution_count": 6,
   "metadata": {
    "collapsed": true
   },
   "outputs": [],
   "source": [
    "L = list(sentence);"
   ]
  },
  {
   "cell_type": "code",
   "execution_count": 7,
   "metadata": {
    "collapsed": false
   },
   "outputs": [
    {
     "name": "stdout",
     "output_type": "stream",
     "text": [
      "['x', ' ', 'a', 'x', 't', 'f', ' ', 'x', ' ', 'z', 'n', 'l', 'p', 'e', ' ', 'a', 'b', 'x', 'o', 'u', ' ', 'q', 't', ' ', 'k', 'v', 't', 'o', 'u', 'b', 'x', 'n', 'l', 't', ' ', 'q', 't', ' ', 'q', ' ', 'z', 'q', 'o']\n"
     ]
    }
   ],
   "source": [
    "print (L);"
   ]
  },
  {
   "cell_type": "code",
   "execution_count": 8,
   "metadata": {
    "collapsed": false
   },
   "outputs": [],
   "source": [
    "for i in range(len(L)):\n",
    "    if sentence[i] == 'x':\n",
    "        L[i] = 'i';\n",
    "    if sentence[i] == 'a':\n",
    "        L[i] = 'w';\n",
    "    if sentence[i] == 't':\n",
    "        L[i] = 's';\n",
    "    if sentence[i] == 'f':\n",
    "        L[i] = 'h';\n",
    "    if sentence[i] == 'z':\n",
    "        L[i] = 'c';\n",
    "    if sentence[i] == 'n':\n",
    "        L[i] = 'o';\n",
    "    if sentence[i] == 'l':\n",
    "        L[i] = 'u';\n",
    "    if sentence[i] == 'p':\n",
    "        L[i] = 'l';\n",
    "    if sentence[i] == 'e':\n",
    "        L[i] = 'd';\n",
    "    if sentence[i] == 'b':\n",
    "        L[i] = 'r';\n",
    "    if sentence[i] == 'o':\n",
    "        L[i] = 't';\n",
    "    if sentence[i] == 'u':\n",
    "        L[i] = 'e';\n",
    "    if sentence[i] == 'q':\n",
    "        L[i] = 'a';\n",
    "    if sentence[i] == 'k':\n",
    "        L[i] = 'm';\n",
    "    if sentence[i] == 'v':\n",
    "        L[i] = 'y';"
   ]
  },
  {
   "cell_type": "code",
   "execution_count": 10,
   "metadata": {
    "collapsed": false
   },
   "outputs": [
    {
     "name": "stdout",
     "output_type": "stream",
     "text": [
      "x axtf x znlpe abxou qt kvtoubxnlt qt q zqo\n"
     ]
    }
   ],
   "source": [
    "print (sentence);"
   ]
  },
  {
   "cell_type": "code",
   "execution_count": 9,
   "metadata": {
    "collapsed": false
   },
   "outputs": [
    {
     "name": "stdout",
     "output_type": "stream",
     "text": [
      "i wish i could write as mysterious as a cat\n"
     ]
    }
   ],
   "source": [
    "print (''.join(L));"
   ]
  }
 ],
 "metadata": {
  "kernelspec": {
   "display_name": "Python 3",
   "language": "python",
   "name": "python3"
  },
  "language_info": {
   "codemirror_mode": {
    "name": "ipython",
    "version": 3
   },
   "file_extension": ".py",
   "mimetype": "text/x-python",
   "name": "python",
   "nbconvert_exporter": "python",
   "pygments_lexer": "ipython3",
   "version": "3.4.3"
  }
 },
 "nbformat": 4,
 "nbformat_minor": 0
}
